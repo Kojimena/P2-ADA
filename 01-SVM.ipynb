{
 "cells": [
  {
   "cell_type": "markdown",
   "metadata": {
    "colab_type": "text",
    "id": "0MRC0e0KhQ0S"
   },
   "source": [
    "# Support Vector Machine (SVM)\n",
    "Integrantes:\n",
    "- Adrian Fulladolsa - 21592\n",
    "- Jimena Hernández - 21199\n",
    "- Emilio Solano - 21212\n",
    "- Diego Hernández - 21270\n",
    "- Linda Jimenez - 21169\n",
    "- Javier Alvarado - 21188"
   ]
  },
  {
   "cell_type": "markdown",
   "metadata": {
    "colab_type": "text",
    "id": "LWd1UlMnhT2s"
   },
   "source": [
    "## Importar las librerías"
   ]
  },
  {
   "cell_type": "code",
   "execution_count": 3,
   "metadata": {
    "colab": {},
    "colab_type": "code",
    "id": "YvGPUQaHhXfL"
   },
   "outputs": [],
   "source": [
    "import numpy as np\n",
    "import matplotlib.pyplot as plt\n",
    "import pandas as pd"
   ]
  },
  {
   "cell_type": "markdown",
   "metadata": {
    "colab_type": "text",
    "id": "K1VMqkGvhc3-"
   },
   "source": [
    "## Importar el conjunto de datos"
   ]
  },
  {
   "cell_type": "code",
   "execution_count": 4,
   "metadata": {
    "colab": {},
    "colab_type": "code",
    "id": "M52QDmyzhh9s"
   },
   "outputs": [
    {
     "data": {
      "text/plain": [
       "((400, 2), (400,))"
      ]
     },
     "execution_count": 4,
     "metadata": {},
     "output_type": "execute_result"
    }
   ],
   "source": [
    "datos = pd.read_csv('Social_Network_Ads.csv')\n",
    "X = datos.iloc[:, :-1].values\n",
    "y = datos.iloc[:, -1].values\n",
    "\n",
    "X.shape, y.shape"
   ]
  },
  {
   "cell_type": "code",
   "execution_count": 11,
   "metadata": {},
   "outputs": [
    {
     "name": "stdout",
     "output_type": "stream",
     "text": [
      "<class 'pandas.core.frame.DataFrame'>\n",
      "RangeIndex: 581012 entries, 0 to 581011\n",
      "Data columns (total 54 columns):\n",
      " #   Column                              Non-Null Count   Dtype \n",
      "---  ------                              --------------   ----- \n",
      " 0   Elevation                           581012 non-null  object\n",
      " 1   Aspect                              581012 non-null  object\n",
      " 2   Slope                               581012 non-null  object\n",
      " 3   Horizontal_Distance_To_Hydrology    581012 non-null  object\n",
      " 4   Vertical_Distance_To_Hydrology      581012 non-null  object\n",
      " 5   Horizontal_Distance_To_Roadways     581012 non-null  object\n",
      " 6   Hillshade_9am                       581012 non-null  object\n",
      " 7   Hillshade_Noon                      581012 non-null  object\n",
      " 8   Hillshade_3pm                       581012 non-null  object\n",
      " 9   Horizontal_Distance_To_Fire_Points  581012 non-null  object\n",
      " 10  Wilderness_Area1                    581012 non-null  object\n",
      " 11  Wilderness_Area2                    581012 non-null  object\n",
      " 12  Wilderness_Area3                    581012 non-null  object\n",
      " 13  Wilderness_Area4                    581012 non-null  object\n",
      " 14  Soil_Type1                          581012 non-null  object\n",
      " 15  Soil_Type2                          581012 non-null  object\n",
      " 16  Soil_Type3                          581012 non-null  object\n",
      " 17  Soil_Type4                          581012 non-null  object\n",
      " 18  Soil_Type5                          581012 non-null  object\n",
      " 19  Soil_Type6                          581012 non-null  object\n",
      " 20  Soil_Type7                          581012 non-null  object\n",
      " 21  Soil_Type8                          581012 non-null  object\n",
      " 22  Soil_Type9                          581012 non-null  object\n",
      " 23  Soil_Type10                         581012 non-null  object\n",
      " 24  Soil_Type11                         581012 non-null  object\n",
      " 25  Soil_Type12                         581012 non-null  object\n",
      " 26  Soil_Type13                         581012 non-null  object\n",
      " 27  Soil_Type14                         581012 non-null  object\n",
      " 28  Soil_Type15                         581012 non-null  object\n",
      " 29  Soil_Type16                         581012 non-null  object\n",
      " 30  Soil_Type17                         581012 non-null  object\n",
      " 31  Soil_Type18                         581012 non-null  object\n",
      " 32  Soil_Type19                         581012 non-null  object\n",
      " 33  Soil_Type20                         581012 non-null  object\n",
      " 34  Soil_Type21                         581012 non-null  object\n",
      " 35  Soil_Type22                         581012 non-null  object\n",
      " 36  Soil_Type23                         581012 non-null  object\n",
      " 37  Soil_Type24                         581012 non-null  object\n",
      " 38  Soil_Type25                         581012 non-null  object\n",
      " 39  Soil_Type26                         581012 non-null  object\n",
      " 40  Soil_Type27                         581012 non-null  object\n",
      " 41  Soil_Type28                         581012 non-null  object\n",
      " 42  Soil_Type29                         581012 non-null  object\n",
      " 43  Soil_Type30                         581012 non-null  object\n",
      " 44  Soil_Type31                         581012 non-null  object\n",
      " 45  Soil_Type32                         581012 non-null  object\n",
      " 46  Soil_Type33                         581012 non-null  object\n",
      " 47  Soil_Type34                         581012 non-null  object\n",
      " 48  Soil_Type35                         581012 non-null  object\n",
      " 49  Soil_Type36                         581012 non-null  object\n",
      " 50  Soil_Type37                         581012 non-null  object\n",
      " 51  Soil_Type38                         581012 non-null  object\n",
      " 52  Soil_Type39                         581012 non-null  object\n",
      " 53  Soil_Type40                         581012 non-null  object\n",
      "dtypes: object(54)\n",
      "memory usage: 239.4+ MB\n",
      "None\n"
     ]
    }
   ],
   "source": [
    "import time\n",
    "import numpy as np\n",
    "import matplotlib.pyplot as plt\n",
    "from sklearn.model_selection import train_test_split\n",
    "from sklearn.preprocessing import StandardScaler\n",
    "from sklearn.svm import SVC\n",
    "from sklearn.datasets import fetch_openml\n",
    "import pandas as pd \n",
    "\n",
    "# Cargar dataset \"Covertype\" de OpenML\n",
    "covertype = fetch_openml(name=\"covertype\", version=3, as_frame=False)\n",
    "X, y = covertype.data, covertype.target\n",
    "\n",
    "# Obtener los nombres de todas las características del dataset\n",
    "feature_names = covertype.feature_names\n",
    "\n",
    "# Crear un DataFrame de pandas con las características y el objetivo\n",
    "df = pd.DataFrame(X, columns=feature_names)\n",
    "# Imprimir el encabezado del DataFrame para ver las primeras filas\n",
    "#print(df.head())\n",
    "\n",
    "\n",
    "resumen = df.info()\n",
    "\n",
    "# Imprimir el resumen\n",
    "print(resumen)\n",
    "\n",
    "# Limitar el número de muestras para hacerlo más manejable\n",
    "max_samples = 10000\n",
    "X, y = X[:max_samples], y[:max_samples]\n"
   ]
  },
  {
   "cell_type": "markdown",
   "metadata": {
    "colab_type": "text",
    "id": "YvxIPVyMhmKp"
   },
   "source": [
    "## Dividir el conjunto de datos en un conjunto para entrenar y otro para pruebas"
   ]
  },
  {
   "cell_type": "code",
   "execution_count": 14,
   "metadata": {
    "colab": {},
    "colab_type": "code",
    "id": "AVzJWAXIhxoC"
   },
   "outputs": [
    {
     "name": "stdout",
     "output_type": "stream",
     "text": [
      "<class 'pandas.core.frame.DataFrame'>\n",
      "RangeIndex: 581012 entries, 0 to 581011\n",
      "Data columns (total 55 columns):\n",
      " #   Column  Non-Null Count   Dtype\n",
      "---  ------  --------------   -----\n",
      " 0   0       581012 non-null  int64\n",
      " 1   1       581012 non-null  int64\n",
      " 2   2       581012 non-null  int64\n",
      " 3   3       581012 non-null  int64\n",
      " 4   4       581012 non-null  int64\n",
      " 5   5       581012 non-null  int64\n",
      " 6   6       581012 non-null  int64\n",
      " 7   7       581012 non-null  int64\n",
      " 8   8       581012 non-null  int64\n",
      " 9   9       581012 non-null  int64\n",
      " 10  10      581012 non-null  int64\n",
      " 11  11      581012 non-null  int64\n",
      " 12  12      581012 non-null  int64\n",
      " 13  13      581012 non-null  int64\n",
      " 14  14      581012 non-null  int64\n",
      " 15  15      581012 non-null  int64\n",
      " 16  16      581012 non-null  int64\n",
      " 17  17      581012 non-null  int64\n",
      " 18  18      581012 non-null  int64\n",
      " 19  19      581012 non-null  int64\n",
      " 20  20      581012 non-null  int64\n",
      " 21  21      581012 non-null  int64\n",
      " 22  22      581012 non-null  int64\n",
      " 23  23      581012 non-null  int64\n",
      " 24  24      581012 non-null  int64\n",
      " 25  25      581012 non-null  int64\n",
      " 26  26      581012 non-null  int64\n",
      " 27  27      581012 non-null  int64\n",
      " 28  28      581012 non-null  int64\n",
      " 29  29      581012 non-null  int64\n",
      " 30  30      581012 non-null  int64\n",
      " 31  31      581012 non-null  int64\n",
      " 32  32      581012 non-null  int64\n",
      " 33  33      581012 non-null  int64\n",
      " 34  34      581012 non-null  int64\n",
      " 35  35      581012 non-null  int64\n",
      " 36  36      581012 non-null  int64\n",
      " 37  37      581012 non-null  int64\n",
      " 38  38      581012 non-null  int64\n",
      " 39  39      581012 non-null  int64\n",
      " 40  40      581012 non-null  int64\n",
      " 41  41      581012 non-null  int64\n",
      " 42  42      581012 non-null  int64\n",
      " 43  43      581012 non-null  int64\n",
      " 44  44      581012 non-null  int64\n",
      " 45  45      581012 non-null  int64\n",
      " 46  46      581012 non-null  int64\n",
      " 47  47      581012 non-null  int64\n",
      " 48  48      581012 non-null  int64\n",
      " 49  49      581012 non-null  int64\n",
      " 50  50      581012 non-null  int64\n",
      " 51  51      581012 non-null  int64\n",
      " 52  52      581012 non-null  int64\n",
      " 53  53      581012 non-null  int64\n",
      " 54  54      581012 non-null  int64\n",
      "dtypes: int64(55)\n",
      "memory usage: 243.8 MB\n",
      "None\n"
     ]
    },
    {
     "data": {
      "image/png": "[encoded data removed]",
      "text/plain": [
       "<Figure size 1000x600 with 1 Axes>"
      ]
     },
     "metadata": {},
     "output_type": "display_data"
    }
   ],
   "source": [
    "import time\n",
    "import numpy as np\n",
    "import matplotlib.pyplot as plt\n",
    "from sklearn.model_selection import train_test_split\n",
    "from sklearn.preprocessing import StandardScaler\n",
    "from sklearn.svm import SVC\n",
    "import pandas as pd \n",
    "\n",
    "# Cargar datos del archivo covtype.data\n",
    "df = pd.read_csv(\"covtype.data\", header=None)\n",
    "\n",
    "# Limitar el número de muestras para hacerlo más manejable\n",
    "max_samples = 10000\n",
    "print(df.info())\n",
    "\n",
    "df = df.head(max_samples)\n",
    "\n",
    "# Obtener características y objetivo del DataFrame\n",
    "X = df.iloc[:, :-1].values  # Todas las filas, todas las columnas excepto la última\n",
    "y = df.iloc[:, -1].values  # Todas las filas, última columna\n",
    "\n",
    "# Función para evaluar SVM con diferentes tamaños de muestras del dataset real\n",
    "def evaluar_svm(num_muestras):\n",
    "    X_subset, y_subset = X[:num_muestras], y[:num_muestras]\n",
    "\n",
    "    X_entreno, X_prueba, y_entreno, y_prueba = train_test_split(X_subset, y_subset, test_size=0.25, random_state=42)\n",
    "    \n",
    "    normalizador = StandardScaler()\n",
    "    X_entreno = normalizador.fit_transform(X_entreno)\n",
    "    X_prueba = normalizador.transform(X_prueba)\n",
    "\n",
    "    clasificador = SVC(kernel='linear', random_state=42)\n",
    "    inicio = time.time()\n",
    "    clasificador.fit(X_entreno, y_entreno)\n",
    "    fin = time.time()\n",
    "    tiempo_ejecucion = fin - inicio\n",
    "    \n",
    "    return tiempo_ejecucion\n",
    "\n",
    "# Generar 30 tamaños de muestra de manera progresiva hasta el límite de max_samples\n",
    "tamanos_muestras = np.unique(np.round(np.logspace(1, np.log10(max_samples), 30)).astype(int))\n",
    "tiempos_ejecucion = [evaluar_svm(n) for n in tamanos_muestras]\n",
    "\n",
    "# Crear y mostrar la gráfica\n",
    "plt.figure(figsize=(10, 6))\n",
    "plt.plot(tamanos_muestras, tiempos_ejecucion, marker='o', linestyle='-')\n",
    "plt.title('Tiempo de Ejecución de SVM en función del número de muestras (Covertype Dataset)')\n",
    "plt.xlabel('Número de Muestras')\n",
    "plt.ylabel('Tiempo de Ejecución (segundos)')\n",
    "plt.grid(True)\n",
    "plt.show()\n"
   ]
  },
  {
   "cell_type": "code",
   "execution_count": 851,
   "metadata": {
    "colab": {
     "base_uri": "https://localhost:8080/",
     "height": 1000
    },
    "colab_type": "code",
    "executionInfo": {
     "elapsed": 1137,
     "status": "ok",
     "timestamp": 1588267335709,
     "user": {
      "displayName": "Hadelin de Ponteves",
      "photoUrl": "https://lh3.googleusercontent.com/a-/AOh14GhEuXdT7eQweUmRPW8_laJuPggSK6hfvpl5a6WBaA=s64",
      "userId": "15047218817161520419"
     },
     "user_tz": -240
    },
    "id": "P3nS3-6r1i2B",
    "outputId": "c9d82a73-9c13-4cac-e5f2-a7c7803f1819"
   },
   "outputs": [
    {
     "ename": "NameError",
     "evalue": "name 'X_entreno' is not defined",
     "output_type": "error",
     "traceback": [
      "\u001b[0;31m---------------------------------------------------------------------------\u001b[0m",
      "\u001b[0;31mNameError\u001b[0m                                 Traceback (most recent call last)",
      "Cell \u001b[0;32mIn[851], line 1\u001b[0m\n\u001b[0;32m----> 1\u001b[0m \u001b[38;5;28mprint\u001b[39m(\u001b[43mX_entreno\u001b[49m)\n",
      "\u001b[0;31mNameError\u001b[0m: name 'X_entreno' is not defined"
     ]
    }
   ],
   "source": [
    "print(X_entreno)"
   ]
  },
  {
   "cell_type": "code",
   "execution_count": null,
   "metadata": {
    "colab": {
     "base_uri": "https://localhost:8080/",
     "height": 171
    },
    "colab_type": "code",
    "executionInfo": {
     "elapsed": 1133,
     "status": "ok",
     "timestamp": 1588267335710,
     "user": {
      "displayName": "Hadelin de Ponteves",
      "photoUrl": "https://lh3.googleusercontent.com/a-/AOh14GhEuXdT7eQweUmRPW8_laJuPggSK6hfvpl5a6WBaA=s64",
      "userId": "15047218817161520419"
     },
     "user_tz": -240
    },
    "id": "8dpDLojm1mVG",
    "outputId": "a3d03ccc-37c0-40b8-92c7-232abd3240a7"
   },
   "outputs": [
    {
     "name": "stdout",
     "output_type": "stream",
     "text": [
      "[1 1 1 0 1 0 0 0 0 0 0 0 0 0 1 0 0 0 1 1 1 1 0 1 1 0 0 0 0 0 0 0 1 0 0 0 0\n",
      " 0 0 1 1 0 1 1 0 0 1 0 0 1 0 0 1 1 1 1 0 0 0 1 1 1 1 0 0 1 0 1 1 1 0 1 1 0\n",
      " 1 0 1 0 0 0 1 1 1 0 0 0 0 0 0 0 0 0 0 0 0 0 1 1 1 1 0 1 0 0 1 0 1 0 0 0 0\n",
      " 0 0 1 0 1 0 0 0 1 0 0 1 0 1 0 0 1 0 1 1 0 0 0 1 1 1 1 1 0 0 1 0 1 1 0 0 1\n",
      " 1 0 0 1 0 1 0 0 0 0 0 0 1 0 1 0 1 0 0 0 0 0 0 0 0 0 0 0 1 0 0 0 1 0 1 0 1\n",
      " 0 0 1 0 0 0 0 1 0 0 0 1 0 1 0 0 1 1 0 1 0 1 1 1 1 1 0 0 0 1 0 0 0 0 1 0 0\n",
      " 1 0 1 0 0 0 0 0 1 0 1 0 0 1 1 0 0 0 0 0 1 1 1 0 0 1 0 0 0 0 0 0 1 0 0 0 0\n",
      " 0 1 0 0 1 0 0 1 1 0 0 0 1 1 1 0 1 0 0 0 0 0 0 0 1 0 0 0 0 0 0 1 0 1 1 1 1\n",
      " 1 0 0 1]\n"
     ]
    }
   ],
   "source": [
    "print(y_entreno)"
   ]
  },
  {
   "cell_type": "code",
   "execution_count": null,
   "metadata": {
    "colab": {
     "base_uri": "https://localhost:8080/",
     "height": 1000
    },
    "colab_type": "code",
    "executionInfo": {
     "elapsed": 1128,
     "status": "ok",
     "timestamp": 1588267335710,
     "user": {
      "displayName": "Hadelin de Ponteves",
      "photoUrl": "https://lh3.googleusercontent.com/a-/AOh14GhEuXdT7eQweUmRPW8_laJuPggSK6hfvpl5a6WBaA=s64",
      "userId": "15047218817161520419"
     },
     "user_tz": -240
    },
    "id": "qbb7i0DH1qui",
    "outputId": "ae89dad9-0dfb-4612-f88a-828fb9f95836"
   },
   "outputs": [
    {
     "name": "stdout",
     "output_type": "stream",
     "text": [
      "[[    35  23000]\n",
      " [    21  16000]\n",
      " [    48  29000]\n",
      " [    35  77000]\n",
      " [    35  97000]\n",
      " [    31  18000]\n",
      " [    60 102000]\n",
      " [    49  28000]\n",
      " [    37 144000]\n",
      " [    27  54000]\n",
      " [    54 108000]\n",
      " [    46  88000]\n",
      " [    45  45000]\n",
      " [    35  72000]\n",
      " [    38  50000]\n",
      " [    26  72000]\n",
      " [    32 117000]\n",
      " [    20  49000]\n",
      " [    29 148000]\n",
      " [    35  57000]\n",
      " [    36  33000]\n",
      " [    42  54000]\n",
      " [    35 108000]\n",
      " [    24  55000]\n",
      " [    56 104000]\n",
      " [    59  83000]\n",
      " [    47  20000]\n",
      " [    41  87000]\n",
      " [    41  72000]\n",
      " [    41  72000]\n",
      " [    46  96000]\n",
      " [    24  89000]\n",
      " [    42  75000]\n",
      " [    26  86000]\n",
      " [    30  17000]\n",
      " [    33  43000]\n",
      " [    30  49000]\n",
      " [    52 114000]\n",
      " [    33  28000]\n",
      " [    49  89000]\n",
      " [    35  73000]\n",
      " [    53  82000]\n",
      " [    20  86000]\n",
      " [    31  74000]\n",
      " [    42  53000]\n",
      " [    24  23000]\n",
      " [    35  50000]\n",
      " [    33  51000]\n",
      " [    48  35000]\n",
      " [    52  90000]\n",
      " [    24  84000]\n",
      " [    29  75000]\n",
      " [    47 113000]\n",
      " [    47  23000]\n",
      " [    41  52000]\n",
      " [    40  60000]\n",
      " [    48  33000]\n",
      " [    36  52000]\n",
      " [    27  20000]\n",
      " [    42  65000]\n",
      " [    28  85000]\n",
      " [    35  25000]\n",
      " [    32 100000]\n",
      " [    38  80000]\n",
      " [    58 144000]\n",
      " [    35  50000]\n",
      " [    18  68000]\n",
      " [    30 107000]\n",
      " [    18  86000]\n",
      " [    47  51000]\n",
      " [    45  32000]\n",
      " [    35  20000]\n",
      " [    23  48000]\n",
      " [    22  55000]\n",
      " [    31  76000]\n",
      " [    25  79000]\n",
      " [    33 113000]\n",
      " [    39  71000]\n",
      " [    36  54000]\n",
      " [    35  39000]\n",
      " [    27  58000]\n",
      " [    41  72000]\n",
      " [    31 118000]\n",
      " [    26  43000]\n",
      " [    47 107000]\n",
      " [    28 123000]\n",
      " [    23  63000]\n",
      " [    42  64000]\n",
      " [    49  74000]\n",
      " [    30 116000]\n",
      " [    19  26000]\n",
      " [    25  87000]\n",
      " [    26  30000]\n",
      " [    28  87000]\n",
      " [    45  22000]\n",
      " [    59  76000]\n",
      " [    38  51000]\n",
      " [    28  89000]\n",
      " [    43 129000]\n",
      " [    46  59000]]\n"
     ]
    }
   ],
   "source": [
    "print(X_prueba)"
   ]
  },
  {
   "cell_type": "code",
   "execution_count": null,
   "metadata": {
    "colab": {
     "base_uri": "https://localhost:8080/",
     "height": 68
    },
    "colab_type": "code",
    "executionInfo": {
     "elapsed": 1591,
     "status": "ok",
     "timestamp": 1588267336179,
     "user": {
      "displayName": "Hadelin de Ponteves",
      "photoUrl": "https://lh3.googleusercontent.com/a-/AOh14GhEuXdT7eQweUmRPW8_laJuPggSK6hfvpl5a6WBaA=s64",
      "userId": "15047218817161520419"
     },
     "user_tz": -240
    },
    "id": "kj1hnFAR1s5w",
    "outputId": "948c3b43-2282-400f-9f0e-e9f397b65047"
   },
   "outputs": [
    {
     "name": "stdout",
     "output_type": "stream",
     "text": [
      "[0 0 1 0 1 0 1 1 1 0 1 1 1 0 0 0 1 0 1 0 0 0 0 0 1 0 1 1 0 0 0 0 0 0 0 0 0\n",
      " 0 0 1 0 1 0 0 0 0 0 0 1 1 0 0 1 1 0 0 1 0 0 0 0 0 1 0 1 0 0 1 0 1 1 0 0 0\n",
      " 0 0 0 0 0 0 0 0 1 0 1 1 0 0 0 0 0 0 0 0 1 1 0 0 1 0]\n"
     ]
    }
   ],
   "source": [
    "print(y_prueba)"
   ]
  },
  {
   "cell_type": "markdown",
   "metadata": {
    "colab_type": "text",
    "id": "kW3c7UYih0hT"
   },
   "source": [
    "## Escalamiento o normalización de variables"
   ]
  },
  {
   "cell_type": "code",
   "execution_count": null,
   "metadata": {
    "colab": {},
    "colab_type": "code",
    "id": "9fQlDPKCh8sc"
   },
   "outputs": [],
   "source": [
    "from sklearn.preprocessing import StandardScaler\n",
    "normalizador = StandardScaler()\n",
    "X_entreno = normalizador.fit_transform(X_entreno)\n",
    "X_prueba = normalizador.transform(X_prueba)"
   ]
  },
  {
   "cell_type": "code",
   "execution_count": null,
   "metadata": {
    "colab": {
     "base_uri": "https://localhost:8080/",
     "height": 1000
    },
    "colab_type": "code",
    "executionInfo": {
     "elapsed": 1585,
     "status": "ok",
     "timestamp": 1588267336180,
     "user": {
      "displayName": "Hadelin de Ponteves",
      "photoUrl": "https://lh3.googleusercontent.com/a-/AOh14GhEuXdT7eQweUmRPW8_laJuPggSK6hfvpl5a6WBaA=s64",
      "userId": "15047218817161520419"
     },
     "user_tz": -240
    },
    "id": "syrnD1Op2BSR",
    "outputId": "cd5ad357-7763-4894-d894-76fbe781fcd8"
   },
   "outputs": [
    {
     "name": "stdout",
     "output_type": "stream",
     "text": [
      "[[ 0.9446258   1.40295623]\n",
      " [ 0.84956114 -1.15536445]\n",
      " [ 0.84956114  1.00052376]\n",
      " [-1.62211991 -0.06304775]\n",
      " [ 2.08540166 -0.81042233]\n",
      " [-0.95666732 -0.32175434]\n",
      " [ 0.18410855 -0.26426399]\n",
      " [-1.4319906  -1.44281621]\n",
      " [ 0.27917321  0.05193295]\n",
      " [-0.95666732 -0.75293198]\n",
      " [-0.86160266 -0.66669645]\n",
      " [-1.52705525  0.31063954]\n",
      " [-1.05173197 -1.52905174]\n",
      " [-1.05173197  0.51185577]\n",
      " [-1.05173197  1.9203694 ]\n",
      " [-1.14679663  0.39687507]\n",
      " [-0.00602076 -0.43673504]\n",
      " [-0.29121473  0.05193295]\n",
      " [ 0.9446258  -0.83916751]\n",
      " [ 1.13475511  0.51185577]\n",
      " [ 1.41994907  0.97177859]\n",
      " [ 1.70514304  1.8053887 ]\n",
      " [-0.29121473  0.13816848]\n",
      " [ 0.37423786  0.97177859]\n",
      " [ 0.9446258   0.74181718]\n",
      " [ 0.27917321 -0.55171575]\n",
      " [-0.00602076  0.02318778]\n",
      " [-0.19615007  0.13816848]\n",
      " [ 0.37423786 -0.14928328]\n",
      " [-0.29121473 -0.32175434]\n",
      " [-0.00602076 -0.14928328]\n",
      " [-1.14679663 -1.52905174]\n",
      " [ 0.08904389  1.83413387]\n",
      " [-0.19615007 -0.29300916]\n",
      " [-1.14679663 -1.55779691]\n",
      " [-1.05173197 -1.12661927]\n",
      " [-0.95666732 -0.43673504]\n",
      " [-0.19615007 -0.20677363]\n",
      " [-0.29121473 -0.66669645]\n",
      " [ 1.13475511 -1.44281621]\n",
      " [ 1.51501373 -0.0055574 ]\n",
      " [-1.71718456 -1.35658068]\n",
      " [ 0.75449648  1.34546588]\n",
      " [ 0.08904389  1.02926894]\n",
      " [-0.10108542 -0.23551881]\n",
      " [-1.71718456  0.33938471]\n",
      " [-0.19615007  1.60417246]\n",
      " [-0.10108542 -0.4942254 ]\n",
      " [-1.05173197  0.39687507]\n",
      " [ 1.03969045 -0.98289339]\n",
      " [-1.05173197 -0.35049951]\n",
      " [-1.24186129 -1.06912892]\n",
      " [ 0.08904389  0.74181718]\n",
      " [-0.19615007  0.82805271]\n",
      " [ 0.08904389  1.83413387]\n",
      " [ 1.89527235  0.713072  ]\n",
      " [-0.76653801  0.28189436]\n",
      " [ 0.08904389  0.19565883]\n",
      " [ 0.27917321 -0.20677363]\n",
      " [ 2.08540166  1.08675929]\n",
      " [ 1.89527235 -1.35658068]\n",
      " [ 1.32488442 -1.41407103]\n",
      " [-0.48134404  2.26531151]\n",
      " [-0.86160266 -0.78167716]\n",
      " [ 0.37423786  0.25314918]\n",
      " [ 2.08540166 -0.81042233]\n",
      " [ 0.27917321  0.02318778]\n",
      " [ 0.46930252  1.20174   ]\n",
      " [-0.19615007  2.12158563]\n",
      " [ 1.41994907  0.05193295]\n",
      " [-0.67147335  0.02318778]\n",
      " [ 1.99033701  1.71915317]\n",
      " [ 1.99033701  2.09284046]\n",
      " [ 0.08904389 -0.81042233]\n",
      " [-0.5764087   1.43170141]\n",
      " [-0.67147335 -0.12053811]\n",
      " [ 0.9446258  -1.06912892]\n",
      " [-0.76653801  0.25314918]\n",
      " [ 0.18410855  0.13816848]\n",
      " [-1.14679663 -1.09787409]\n",
      " [-0.38627938  1.20174   ]\n",
      " [ 0.75449648 -1.09787409]\n",
      " [ 0.9446258   0.56934612]\n",
      " [-0.86160266 -0.78167716]\n",
      " [-1.14679663  1.37421105]\n",
      " [-0.95666732 -1.09787409]\n",
      " [-0.76653801 -1.58654209]\n",
      " [-0.10108542  0.28189436]\n",
      " [-0.10108542  0.1094233 ]\n",
      " [-1.62211991  0.05193295]\n",
      " [ 0.08904389  0.02318778]\n",
      " [-0.10108542 -0.43673504]\n",
      " [-0.95666732 -0.95414821]\n",
      " [-0.00602076 -0.26426399]\n",
      " [-0.67147335  0.54060095]\n",
      " [ 0.9446258   2.03535011]\n",
      " [ 0.37423786  1.08675929]\n",
      " [ 1.32488442 -0.92540304]\n",
      " [-0.19615007  1.57542729]\n",
      " [ 1.99033701  0.51185577]\n",
      " [-0.29121473 -0.26426399]\n",
      " [ 0.9446258   1.94911458]\n",
      " [-1.33692594 -1.09787409]\n",
      " [-1.4319906  -0.12053811]\n",
      " [ 1.22981976  2.17907599]\n",
      " [-0.38627938 -0.78167716]\n",
      " [ 0.75449648  0.25314918]\n",
      " [-0.86160266 -1.2128548 ]\n",
      " [-1.90731387  0.33938471]\n",
      " [-1.14679663 -1.01163857]\n",
      " [-0.19615007 -0.58046092]\n",
      " [-0.10108542  0.02318778]\n",
      " [-1.24186129  0.56934612]\n",
      " [-0.5764087   2.29405669]\n",
      " [-0.38627938 -0.78167716]\n",
      " [-0.76653801  1.86287905]\n",
      " [-0.29121473 -1.24159997]\n",
      " [-1.81224922  0.42562024]\n",
      " [-1.4319906  -1.2128548 ]\n",
      " [ 1.03969045 -1.2128548 ]\n",
      " [-1.81224922 -1.29909033]\n",
      " [-1.90731387 -0.75293198]\n",
      " [ 0.9446258   0.1094233 ]\n",
      " [-0.95666732 -0.32175434]\n",
      " [-0.19615007  1.37421105]\n",
      " [-1.90731387 -0.52297057]\n",
      " [ 0.37423786  0.28189436]\n",
      " [ 0.84956114 -0.6092061 ]\n",
      " [-0.95666732  0.25314918]\n",
      " [ 1.89527235 -0.92540304]\n",
      " [ 0.18410855  0.02318778]\n",
      " [ 0.18410855 -0.14928328]\n",
      " [ 0.27917321 -0.52297057]\n",
      " [-0.5764087  -1.50030656]\n",
      " [ 0.56436717  1.97785975]\n",
      " [ 1.8002077  -1.06912892]\n",
      " [ 0.84956114 -1.04038374]\n",
      " [ 1.61007838 -0.89665786]\n",
      " [-0.29121473  0.5980913 ]\n",
      " [-0.10108542  0.19565883]\n",
      " [ 0.08904389 -0.81042233]\n",
      " [ 1.03969045  0.51185577]\n",
      " [-1.24186129  0.28189436]\n",
      " [ 1.41994907  2.09284046]\n",
      " [ 1.22981976 -1.35658068]\n",
      " [ 0.27917321 -0.29300916]\n",
      " [ 0.27917321 -0.32175434]\n",
      " [ 1.03969045  2.03535011]\n",
      " [ 0.37423786  2.26531151]\n",
      " [-0.29121473 -1.38532586]\n",
      " [ 0.84956114 -0.78167716]\n",
      " [ 0.65943183  1.74789834]\n",
      " [-1.14679663  0.28189436]\n",
      " [-0.10108542  2.17907599]\n",
      " [ 0.27917321 -1.15536445]\n",
      " [-1.14679663  0.28189436]\n",
      " [-0.29121473 -0.92540304]\n",
      " [-1.52705525 -1.50030656]\n",
      " [ 0.18410855 -0.32175434]\n",
      " [ 0.18410855  0.13816848]\n",
      " [ 0.84956114  2.12158563]\n",
      " [-0.00602076 -0.26426399]\n",
      " [ 1.8002077   1.48919176]\n",
      " [-0.76653801  0.54060095]\n",
      " [ 1.89527235 -0.66669645]\n",
      " [-1.14679663  0.31063954]\n",
      " [-0.00602076 -0.58046092]\n",
      " [-1.71718456 -0.98289339]\n",
      " [-0.29121473  0.51185577]\n",
      " [-0.38627938 -1.29909033]\n",
      " [-1.52705525 -0.20677363]\n",
      " [-1.71718456  0.33938471]\n",
      " [-0.29121473 -0.29300916]\n",
      " [ 0.08904389 -0.26426399]\n",
      " [ 0.18410855  0.22440401]\n",
      " [-0.29121473 -0.43673504]\n",
      " [ 0.37423786  0.28189436]\n",
      " [-0.10108542 -0.52297057]\n",
      " [ 0.65943183  0.25314918]\n",
      " [-0.38627938  0.05193295]\n",
      " [-1.05173197  0.74181718]\n",
      " [-0.29121473 -0.35049951]\n",
      " [ 1.03969045 -0.89665786]\n",
      " [-1.71718456  0.1094233 ]\n",
      " [ 2.08540166 -0.69544163]\n",
      " [-0.29121473  0.25314918]\n",
      " [-1.52705525 -1.24159997]\n",
      " [ 0.75449648 -0.83916751]\n",
      " [-0.86160266  0.36812989]\n",
      " [ 0.37423786 -0.46548022]\n",
      " [ 0.75449648  0.33938471]\n",
      " [-1.81224922 -1.47156138]\n",
      " [ 2.08540166 -1.04038374]\n",
      " [ 0.08904389 -0.32175434]\n",
      " [-0.29121473 -0.4942254 ]\n",
      " [-1.33692594 -0.35049951]\n",
      " [ 0.65943183 -1.27034515]\n",
      " [-0.29121473 -0.75293198]\n",
      " [ 1.8002077   0.1094233 ]\n",
      " [-0.00602076  0.02318778]\n",
      " [-1.33692594 -1.24159997]\n",
      " [ 0.9446258  -1.15536445]\n",
      " [ 1.03969045  0.45436542]\n",
      " [-0.48134404 -1.12661927]\n",
      " [ 1.8002077  -1.27034515]\n",
      " [-0.00602076  1.20174   ]\n",
      " [ 1.51501373  0.97177859]\n",
      " [-0.29121473  2.20782116]\n",
      " [ 0.75449648 -1.2128548 ]\n",
      " [ 0.9446258   1.74789834]\n",
      " [ 1.61007838  1.57542729]\n",
      " [-1.33692594 -0.43673504]\n",
      " [-0.10108542 -1.06912892]\n",
      " [ 1.03969045 -0.14928328]\n",
      " [ 0.84956114 -0.58046092]\n",
      " [-1.24186129 -1.38532586]\n",
      " [-1.14679663 -1.58654209]\n",
      " [ 0.37423786 -0.0055574 ]\n",
      " [-0.38627938  1.28797553]\n",
      " [ 1.99033701 -1.18410962]\n",
      " [-0.29121473 -0.14928328]\n",
      " [ 0.46930252  1.8053887 ]\n",
      " [ 1.70514304 -0.29300916]\n",
      " [-0.10108542  0.13816848]\n",
      " [-0.10108542  0.22440401]\n",
      " [ 0.18410855 -0.66669645]\n",
      " [-0.10108542  0.28189436]\n",
      " [ 0.18410855  0.05193295]\n",
      " [ 0.75449648  0.1094233 ]\n",
      " [-0.29121473  0.13816848]\n",
      " [-0.10108542  1.9203694 ]\n",
      " [-1.4319906   0.33938471]\n",
      " [ 0.18410855  1.05801412]\n",
      " [-1.62211991  0.51185577]\n",
      " [-0.67147335 -1.04038374]\n",
      " [ 0.08904389  1.48919176]\n",
      " [ 0.84956114 -1.29909033]\n",
      " [ 0.08904389  0.08067813]\n",
      " [-0.48134404 -0.29300916]\n",
      " [-1.81224922  0.16691366]\n",
      " [ 0.18410855 -0.37924469]\n",
      " [-0.76653801  0.48311059]\n",
      " [-0.10108542  0.25314918]\n",
      " [ 0.08904389  0.13816848]\n",
      " [ 1.61007838  1.71915317]\n",
      " [-0.10108542  0.05193295]\n",
      " [-1.05173197  0.54060095]\n",
      " [-0.10108542  0.65558165]\n",
      " [-0.95666732  0.39687507]\n",
      " [-0.48134404 -0.83916751]\n",
      " [-0.76653801 -0.23551881]\n",
      " [ 0.27917321  0.28189436]\n",
      " [-0.5764087   1.34546588]\n",
      " [ 0.75449648 -1.38532586]\n",
      " [ 0.65943183 -1.38532586]\n",
      " [-1.81224922 -0.0055574 ]\n",
      " [ 0.18410855 -0.37924469]\n",
      " [-1.81224922 -1.41407103]\n",
      " [-1.33692594 -1.47156138]\n",
      " [ 0.56436717 -0.89665786]\n",
      " [ 0.18410855  2.06409528]\n",
      " [ 1.22981976  1.83413387]\n",
      " [ 0.27917321  0.25314918]\n",
      " [ 0.9446258   1.83413387]\n",
      " [ 1.13475511 -0.75293198]\n",
      " [ 1.99033701 -0.81042233]\n",
      " [-0.5764087   1.86287905]\n",
      " [ 1.13475511 -0.98289339]\n",
      " [ 0.84956114 -0.66669645]\n",
      " [-1.14679663 -1.58654209]\n",
      " [-0.5764087  -1.50030656]\n",
      " [-0.10108542 -0.0055574 ]\n",
      " [ 1.8002077  -0.29300916]\n",
      " [ 1.89527235  0.88554306]\n",
      " [-1.05173197 -0.37924469]\n",
      " [ 0.75449648 -1.35658068]\n",
      " [-1.14679663 -0.52297057]\n",
      " [ 0.08904389  0.25314918]\n",
      " [-0.29121473  0.02318778]\n",
      " [-0.5764087   0.45436542]\n",
      " [-0.86160266  0.28189436]\n",
      " [-0.67147335 -0.35049951]\n",
      " [-0.48134404 -0.03430258]\n",
      " [ 1.32488442  1.94911458]\n",
      " [ 0.27917321 -0.7241868 ]\n",
      " [-0.86160266 -0.26426399]\n",
      " [-0.67147335 -0.06304775]\n",
      " [-0.67147335 -1.58654209]\n",
      " [-0.00602076 -0.32175434]\n",
      " [-0.86160266  0.36812989]\n",
      " [-0.00602076  1.23048517]\n",
      " [-0.10108542 -0.37924469]\n",
      " [ 1.32488442  2.29405669]\n",
      " [ 1.51501373 -1.27034515]\n",
      " [ 1.41994907 -1.04038374]\n",
      " [ 0.37423786  0.56934612]\n",
      " [ 0.37423786  0.08067813]\n",
      " [-1.05173197  0.56934612]\n",
      " [ 0.18410855 -0.37924469]\n",
      " [ 2.08540166  0.36812989]]\n"
     ]
    }
   ],
   "source": [
    "print(X_entreno)"
   ]
  },
  {
   "cell_type": "code",
   "execution_count": null,
   "metadata": {
    "colab": {
     "base_uri": "https://localhost:8080/",
     "height": 1000
    },
    "colab_type": "code",
    "executionInfo": {
     "elapsed": 1579,
     "status": "ok",
     "timestamp": 1588267336180,
     "user": {
      "displayName": "Hadelin de Ponteves",
      "photoUrl": "https://lh3.googleusercontent.com/a-/AOh14GhEuXdT7eQweUmRPW8_laJuPggSK6hfvpl5a6WBaA=s64",
      "userId": "15047218817161520419"
     },
     "user_tz": -240
    },
    "id": "JUd6iBRp2C3L",
    "outputId": "6661e6f4-9c33-42af-d9c7-ca552603de1e"
   },
   "outputs": [
    {
     "name": "stdout",
     "output_type": "stream",
     "text": [
      "[[-0.29121473 -1.35658068]\n",
      " [-1.62211991 -1.55779691]\n",
      " [ 0.9446258  -1.18410962]\n",
      " [-0.29121473  0.19565883]\n",
      " [-0.29121473  0.77056236]\n",
      " [-0.67147335 -1.50030656]\n",
      " [ 2.08540166  0.91428824]\n",
      " [ 1.03969045 -1.2128548 ]\n",
      " [-0.10108542  2.12158563]\n",
      " [-1.05173197 -0.46548022]\n",
      " [ 1.51501373  1.08675929]\n",
      " [ 0.75449648  0.51185577]\n",
      " [ 0.65943183 -0.7241868 ]\n",
      " [-0.29121473  0.05193295]\n",
      " [-0.00602076 -0.58046092]\n",
      " [-1.14679663  0.05193295]\n",
      " [-0.5764087   1.34546588]\n",
      " [-1.71718456 -0.6092061 ]\n",
      " [-0.86160266  2.23656634]\n",
      " [-0.29121473 -0.37924469]\n",
      " [-0.19615007 -1.06912892]\n",
      " [ 0.37423786 -0.46548022]\n",
      " [-0.29121473  1.08675929]\n",
      " [-1.33692594 -0.43673504]\n",
      " [ 1.70514304  0.97177859]\n",
      " [ 1.99033701  0.36812989]\n",
      " [ 0.84956114 -1.44281621]\n",
      " [ 0.27917321  0.48311059]\n",
      " [ 0.27917321  0.05193295]\n",
      " [ 0.27917321  0.05193295]\n",
      " [ 0.75449648  0.74181718]\n",
      " [-1.33692594  0.54060095]\n",
      " [ 0.37423786  0.13816848]\n",
      " [-1.14679663  0.45436542]\n",
      " [-0.76653801 -1.52905174]\n",
      " [-0.48134404 -0.78167716]\n",
      " [-0.76653801 -0.6092061 ]\n",
      " [ 1.32488442  1.25923035]\n",
      " [-0.48134404 -1.2128548 ]\n",
      " [ 1.03969045  0.54060095]\n",
      " [-0.29121473  0.08067813]\n",
      " [ 1.41994907  0.33938471]\n",
      " [-1.71718456  0.45436542]\n",
      " [-0.67147335  0.1094233 ]\n",
      " [ 0.37423786 -0.4942254 ]\n",
      " [-1.33692594 -1.35658068]\n",
      " [-0.29121473 -0.58046092]\n",
      " [-0.48134404 -0.55171575]\n",
      " [ 0.9446258  -1.01163857]\n",
      " [ 1.32488442  0.56934612]\n",
      " [-1.33692594  0.39687507]\n",
      " [-0.86160266  0.13816848]\n",
      " [ 0.84956114  1.23048517]\n",
      " [ 0.84956114 -1.35658068]\n",
      " [ 0.27917321 -0.52297057]\n",
      " [ 0.18410855 -0.29300916]\n",
      " [ 0.9446258  -1.06912892]\n",
      " [-0.19615007 -0.52297057]\n",
      " [-1.05173197 -1.44281621]\n",
      " [ 0.37423786 -0.14928328]\n",
      " [-0.95666732  0.42562024]\n",
      " [-0.29121473 -1.29909033]\n",
      " [-0.5764087   0.85679788]\n",
      " [-0.00602076  0.28189436]\n",
      " [ 1.89527235  2.12158563]\n",
      " [-0.29121473 -0.58046092]\n",
      " [-1.90731387 -0.06304775]\n",
      " [-0.76653801  1.05801412]\n",
      " [-1.90731387  0.45436542]\n",
      " [ 0.84956114 -0.55171575]\n",
      " [ 0.65943183 -1.09787409]\n",
      " [-0.29121473 -1.44281621]\n",
      " [-1.4319906  -0.63795128]\n",
      " [-1.52705525 -0.43673504]\n",
      " [-0.67147335  0.16691366]\n",
      " [-1.24186129  0.25314918]\n",
      " [-0.48134404  1.23048517]\n",
      " [ 0.08904389  0.02318778]\n",
      " [-0.19615007 -0.46548022]\n",
      " [-0.29121473 -0.89665786]\n",
      " [-1.05173197 -0.35049951]\n",
      " [ 0.27917321  0.05193295]\n",
      " [-0.67147335  1.37421105]\n",
      " [-1.14679663 -0.78167716]\n",
      " [ 0.84956114  1.05801412]\n",
      " [-0.95666732  1.51793693]\n",
      " [-1.4319906  -0.20677363]\n",
      " [ 0.37423786 -0.17802846]\n",
      " [ 1.03969045  0.1094233 ]\n",
      " [-0.76653801  1.3167207 ]\n",
      " [-1.81224922 -1.27034515]\n",
      " [-1.24186129  0.48311059]\n",
      " [-1.14679663 -1.15536445]\n",
      " [-0.95666732  0.48311059]\n",
      " [ 0.65943183 -1.38532586]\n",
      " [ 1.99033701  0.16691366]\n",
      " [-0.00602076 -0.55171575]\n",
      " [-0.95666732  0.54060095]\n",
      " [ 0.46930252  1.69040799]\n",
      " [ 0.75449648 -0.32175434]]\n"
     ]
    }
   ],
   "source": [
    "print(X_prueba)"
   ]
  },
  {
   "cell_type": "markdown",
   "metadata": {
    "colab_type": "text",
    "id": "bb6jCOCQiAmP"
   },
   "source": [
    "## Entrenar el modelo SVM con el conjunto de datos para entrenamiento\n",
    "\n",
    "Si entran a la documentación de SVM, verán que podríamos utilizar cualquiera de las siguientes dos clases:\n",
    "\n",
    "* SVM_linear\n",
    "* SVC\n",
    "\n",
    "Vamos a usar la segunda porque es más genérica y, como podrán ver tiene la opción de seleccionar el *kernel* = \"linear\".  De esta forma nos vamos adelantando un poco al siguiente modelo que veremos que será el *kernel SVM*\n"
   ]
  },
  {
   "cell_type": "code",
   "execution_count": null,
   "metadata": {
    "colab": {
     "base_uri": "https://localhost:8080/",
     "height": 86
    },
    "colab_type": "code",
    "executionInfo": {
     "elapsed": 1578,
     "status": "ok",
     "timestamp": 1588267336181,
     "user": {
      "displayName": "Hadelin de Ponteves",
      "photoUrl": "https://lh3.googleusercontent.com/a-/AOh14GhEuXdT7eQweUmRPW8_laJuPggSK6hfvpl5a6WBaA=s64",
      "userId": "15047218817161520419"
     },
     "user_tz": -240
    },
    "id": "e0pFVAmciHQs",
    "outputId": "2456d6a2-0437-42b3-fbe1-e75a23b26148"
   },
   "outputs": [
    {
     "data": {
      "text/html": [
       "<style>#sk-container-id-2 {color: black;}#sk-container-id-2 pre{padding: 0;}#sk-container-id-2 div.sk-toggleable {background-color: white;}#sk-container-id-2 label.sk-toggleable__label {cursor: pointer;display: block;width: 100%;margin-bottom: 0;padding: 0.3em;box-sizing: border-box;text-align: center;}#sk-container-id-2 label.sk-toggleable__label-arrow:before {content: \"▸\";float: left;margin-right: 0.25em;color: #696969;}#sk-container-id-2 label.sk-toggleable__label-arrow:hover:before {color: black;}#sk-container-id-2 div.sk-estimator:hover label.sk-toggleable__label-arrow:before {color: black;}#sk-container-id-2 div.sk-toggleable__content {max-height: 0;max-width: 0;overflow: hidden;text-align: left;background-color: #f0f8ff;}#sk-container-id-2 div.sk-toggleable__content pre {margin: 0.2em;color: black;border-radius: 0.25em;background-color: #f0f8ff;}#sk-container-id-2 input.sk-toggleable__control:checked~div.sk-toggleable__content {max-height: 200px;max-width: 100%;overflow: auto;}#sk-container-id-2 input.sk-toggleable__control:checked~label.sk-toggleable__label-arrow:before {content: \"▾\";}#sk-container-id-2 div.sk-estimator input.sk-toggleable__control:checked~label.sk-toggleable__label {background-color: #d4ebff;}#sk-container-id-2 div.sk-label input.sk-toggleable__control:checked~label.sk-toggleable__label {background-color: #d4ebff;}#sk-container-id-2 input.sk-hidden--visually {border: 0;clip: rect(1px 1px 1px 1px);clip: rect(1px, 1px, 1px, 1px);height: 1px;margin: -1px;overflow: hidden;padding: 0;position: absolute;width: 1px;}#sk-container-id-2 div.sk-estimator {font-family: monospace;background-color: #f0f8ff;border: 1px dotted black;border-radius: 0.25em;box-sizing: border-box;margin-bottom: 0.5em;}#sk-container-id-2 div.sk-estimator:hover {background-color: #d4ebff;}#sk-container-id-2 div.sk-parallel-item::after {content: \"\";width: 100%;border-bottom: 1px solid gray;flex-grow: 1;}#sk-container-id-2 div.sk-label:hover label.sk-toggleable__label {background-color: #d4ebff;}#sk-container-id-2 div.sk-serial::before {content: \"\";position: absolute;border-left: 1px solid gray;box-sizing: border-box;top: 0;bottom: 0;left: 50%;z-index: 0;}#sk-container-id-2 div.sk-serial {display: flex;flex-direction: column;align-items: center;background-color: white;padding-right: 0.2em;padding-left: 0.2em;position: relative;}#sk-container-id-2 div.sk-item {position: relative;z-index: 1;}#sk-container-id-2 div.sk-parallel {display: flex;align-items: stretch;justify-content: center;background-color: white;position: relative;}#sk-container-id-2 div.sk-item::before, #sk-container-id-2 div.sk-parallel-item::before {content: \"\";position: absolute;border-left: 1px solid gray;box-sizing: border-box;top: 0;bottom: 0;left: 50%;z-index: -1;}#sk-container-id-2 div.sk-parallel-item {display: flex;flex-direction: column;z-index: 1;position: relative;background-color: white;}#sk-container-id-2 div.sk-parallel-item:first-child::after {align-self: flex-end;width: 50%;}#sk-container-id-2 div.sk-parallel-item:last-child::after {align-self: flex-start;width: 50%;}#sk-container-id-2 div.sk-parallel-item:only-child::after {width: 0;}#sk-container-id-2 div.sk-dashed-wrapped {border: 1px dashed gray;margin: 0 0.4em 0.5em 0.4em;box-sizing: border-box;padding-bottom: 0.4em;background-color: white;}#sk-container-id-2 div.sk-label label {font-family: monospace;font-weight: bold;display: inline-block;line-height: 1.2em;}#sk-container-id-2 div.sk-label-container {text-align: center;}#sk-container-id-2 div.sk-container {/* jupyter's `normalize.less` sets `[hidden] { display: none; }` but bootstrap.min.css set `[hidden] { display: none !important; }` so we also need the `!important` here to be able to override the default hidden behavior on the sphinx rendered scikit-learn.org. See: https://github.com/scikit-learn/scikit-learn/issues/21755 */display: inline-block !important;position: relative;}#sk-container-id-2 div.sk-text-repr-fallback {display: none;}</style><div id=\"sk-container-id-2\" class=\"sk-top-container\"><div class=\"sk-text-repr-fallback\"><pre>SVC(kernel=&#x27;linear&#x27;, random_state=0)</pre><b>In a Jupyter environment, please rerun this cell to show the HTML representation or trust the notebook. <br />On GitHub, the HTML representation is unable to render, please try loading this page with nbviewer.org.</b></div><div class=\"sk-container\" hidden><div class=\"sk-item\"><div class=\"sk-estimator sk-toggleable\"><input class=\"sk-toggleable__control sk-hidden--visually\" id=\"sk-estimator-id-2\" type=\"checkbox\" checked><label for=\"sk-estimator-id-2\" class=\"sk-toggleable__label sk-toggleable__label-arrow\">SVC</label><div class=\"sk-toggleable__content\"><pre>SVC(kernel=&#x27;linear&#x27;, random_state=0)</pre></div></div></div></div></div>"
      ],
      "text/plain": [
       "SVC(kernel='linear', random_state=0)"
      ]
     },
     "execution_count": 26,
     "metadata": {},
     "output_type": "execute_result"
    }
   ],
   "source": [
    "from sklearn.svm import SVC\n",
    "\n",
    "clasificador = SVC(kernel = 'linear', random_state = 0)\n",
    "clasificador.fit(X_entreno, y_entreno)"
   ]
  },
  {
   "cell_type": "markdown",
   "metadata": {
    "colab_type": "text",
    "id": "yyxW5b395mR2"
   },
   "source": [
    "## Predicción de un nuevo resultado"
   ]
  },
  {
   "cell_type": "code",
   "execution_count": null,
   "metadata": {
    "colab": {
     "base_uri": "https://localhost:8080/",
     "height": 34
    },
    "colab_type": "code",
    "executionInfo": {
     "elapsed": 1573,
     "status": "ok",
     "timestamp": 1588267336181,
     "user": {
      "displayName": "Hadelin de Ponteves",
      "photoUrl": "https://lh3.googleusercontent.com/a-/AOh14GhEuXdT7eQweUmRPW8_laJuPggSK6hfvpl5a6WBaA=s64",
      "userId": "15047218817161520419"
     },
     "user_tz": -240
    },
    "id": "f8YOXsQy58rP",
    "outputId": "46dd75b3-1359-4f2a-8978-5ea65c8a52e9"
   },
   "outputs": [
    {
     "name": "stdout",
     "output_type": "stream",
     "text": [
      "[0]\n"
     ]
    }
   ],
   "source": [
    "print(clasificador.predict(normalizador.transform([[30,87000]])))"
   ]
  },
  {
   "cell_type": "markdown",
   "metadata": {
    "colab_type": "text",
    "id": "vKYVQH-l5NpE"
   },
   "source": [
    "## Predicción de los valores del conjunto de datos de prueba"
   ]
  },
  {
   "cell_type": "code",
   "execution_count": null,
   "metadata": {
    "colab": {
     "base_uri": "https://localhost:8080/",
     "height": 1000
    },
    "colab_type": "code",
    "executionInfo": {
     "elapsed": 1569,
     "status": "ok",
     "timestamp": 1588267336182,
     "user": {
      "displayName": "Hadelin de Ponteves",
      "photoUrl": "https://lh3.googleusercontent.com/a-/AOh14GhEuXdT7eQweUmRPW8_laJuPggSK6hfvpl5a6WBaA=s64",
      "userId": "15047218817161520419"
     },
     "user_tz": -240
    },
    "id": "p6VMTb2O4hwM",
    "outputId": "3621a714-16d0-4c4a-dfc1-ae223f3cfc1d"
   },
   "outputs": [
    {
     "name": "stdout",
     "output_type": "stream",
     "text": [
      "[[0 0]\n",
      " [0 0]\n",
      " [0 1]\n",
      " [0 0]\n",
      " [0 1]\n",
      " [0 0]\n",
      " [1 1]\n",
      " [1 1]\n",
      " [1 1]\n",
      " [0 0]\n",
      " [1 1]\n",
      " [1 1]\n",
      " [0 1]\n",
      " [0 0]\n",
      " [0 0]\n",
      " [0 0]\n",
      " [0 1]\n",
      " [0 0]\n",
      " [0 1]\n",
      " [0 0]\n",
      " [0 0]\n",
      " [0 0]\n",
      " [0 0]\n",
      " [0 0]\n",
      " [1 1]\n",
      " [1 0]\n",
      " [0 1]\n",
      " [1 1]\n",
      " [0 0]\n",
      " [0 0]\n",
      " [1 0]\n",
      " [0 0]\n",
      " [1 0]\n",
      " [0 0]\n",
      " [0 0]\n",
      " [0 0]\n",
      " [0 0]\n",
      " [1 0]\n",
      " [0 0]\n",
      " [1 1]\n",
      " [0 0]\n",
      " [1 1]\n",
      " [0 0]\n",
      " [0 0]\n",
      " [0 0]\n",
      " [0 0]\n",
      " [0 0]\n",
      " [0 0]\n",
      " [1 1]\n",
      " [1 1]\n",
      " [0 0]\n",
      " [0 0]\n",
      " [1 1]\n",
      " [0 1]\n",
      " [0 0]\n",
      " [0 0]\n",
      " [0 1]\n",
      " [0 0]\n",
      " [0 0]\n",
      " [0 0]\n",
      " [0 0]\n",
      " [0 0]\n",
      " [0 1]\n",
      " [0 0]\n",
      " [1 1]\n",
      " [0 0]\n",
      " [0 0]\n",
      " [0 1]\n",
      " [0 0]\n",
      " [1 1]\n",
      " [0 1]\n",
      " [0 0]\n",
      " [0 0]\n",
      " [0 0]\n",
      " [0 0]\n",
      " [0 0]\n",
      " [0 0]\n",
      " [0 0]\n",
      " [0 0]\n",
      " [0 0]\n",
      " [0 0]\n",
      " [0 0]\n",
      " [0 1]\n",
      " [0 0]\n",
      " [1 1]\n",
      " [0 1]\n",
      " [0 0]\n",
      " [0 0]\n",
      " [1 0]\n",
      " [0 0]\n",
      " [0 0]\n",
      " [0 0]\n",
      " [0 0]\n",
      " [0 0]\n",
      " [0 1]\n",
      " [1 1]\n",
      " [0 0]\n",
      " [0 0]\n",
      " [1 1]\n",
      " [1 0]]\n"
     ]
    }
   ],
   "source": [
    "y_pred = clasificador.predict(X_prueba)\n",
    "print(np.concatenate((y_pred.reshape(len(y_pred),1), y_prueba.reshape(len(y_prueba),1)),1))"
   ]
  },
  {
   "cell_type": "markdown",
   "metadata": {
    "colab_type": "text",
    "id": "h4Hwj34ziWQW"
   },
   "source": [
    "## Obtener la matriz de confusión"
   ]
  },
  {
   "cell_type": "code",
   "execution_count": null,
   "metadata": {
    "colab": {
     "base_uri": "https://localhost:8080/",
     "height": 68
    },
    "colab_type": "code",
    "executionInfo": {
     "elapsed": 1563,
     "status": "ok",
     "timestamp": 1588267336182,
     "user": {
      "displayName": "Hadelin de Ponteves",
      "photoUrl": "https://lh3.googleusercontent.com/a-/AOh14GhEuXdT7eQweUmRPW8_laJuPggSK6hfvpl5a6WBaA=s64",
      "userId": "15047218817161520419"
     },
     "user_tz": -240
    },
    "id": "D6bpZwUiiXic",
    "outputId": "f72110a8-b97b-43e8-9adf-14673886ccab"
   },
   "outputs": [
    {
     "name": "stdout",
     "output_type": "stream",
     "text": [
      "[[63  6]\n",
      " [14 17]]\n"
     ]
    },
    {
     "data": {
      "text/plain": [
       "0.8"
      ]
     },
     "execution_count": 29,
     "metadata": {},
     "output_type": "execute_result"
    }
   ],
   "source": [
    "from sklearn.metrics import confusion_matrix, accuracy_score\n",
    "mat_conf = confusion_matrix(y_prueba, y_pred)\n",
    "print(mat_conf)\n",
    "accuracy_score(y_prueba, y_pred)"
   ]
  },
  {
   "cell_type": "markdown",
   "metadata": {
    "colab_type": "text",
    "id": "6OMC_P0diaoD"
   },
   "source": [
    "## Visualizar los resultados con los datos para entrenamiento"
   ]
  },
  {
   "cell_type": "code",
   "execution_count": null,
   "metadata": {
    "colab": {
     "base_uri": "https://localhost:8080/",
     "height": 349
    },
    "colab_type": "code",
    "executionInfo": {
     "elapsed": 155558,
     "status": "ok",
     "timestamp": 1588267490181,
     "user": {
      "displayName": "Hadelin de Ponteves",
      "photoUrl": "https://lh3.googleusercontent.com/a-/AOh14GhEuXdT7eQweUmRPW8_laJuPggSK6hfvpl5a6WBaA=s64",
      "userId": "15047218817161520419"
     },
     "user_tz": -240
    },
    "id": "_NOjKvZRid5l",
    "outputId": "ac9cc7c4-d0db-4fb1-bca7-779ff68cbfd4"
   },
   "outputs": [],
   "source": [
    "from matplotlib.colors import ListedColormap\n",
    "X_set, y_set = normalizador.inverse_transform(X_entreno), y_entreno\n",
    "X1, X2 = np.meshgrid(np.arange(start = X_set[:, 0].min() - 10, stop = X_set[:, 0].max() + 10, step = 0.25),\n",
    "                     np.arange(start = X_set[:, 1].min() - 1000, stop = X_set[:, 1].max() + 1000, step = 0.25))\n",
    "plt.contourf(X1, X2, clasificador.predict(normalizador.transform(np.array([X1.ravel(), X2.ravel()]).T)).reshape(X1.shape),\n",
    "             alpha = 0.75, cmap = ListedColormap(['red', 'green']))\n",
    "plt.xlim(X1.min(), X1.max())\n",
    "plt.ylim(X2.min(), X2.max())\n",
    "for i, j in enumerate(np.unique(y_set)):\n",
    "    plt.scatter(X_set[y_set == j, 0], X_set[y_set == j, 1], color = ListedColormap(['red', 'green'])(i), label = j)\n",
    "plt.title('SVM (Datos para Entrenamiento)')\n",
    "plt.xlabel('Edad')\n",
    "plt.ylabel('Salario Estimado')\n",
    "plt.legend()\n",
    "plt.show()"
   ]
  },
  {
   "cell_type": "markdown",
   "metadata": {
    "colab_type": "text",
    "id": "SZ-j28aPihZx"
   },
   "source": [
    "## Visualizar los resultado con los datos para prueba"
   ]
  },
  {
   "cell_type": "code",
   "execution_count": null,
   "metadata": {
    "colab": {
     "base_uri": "https://localhost:8080/",
     "height": 349
    },
    "colab_type": "code",
    "executionInfo": {
     "elapsed": 307655,
     "status": "ok",
     "timestamp": 1588267642283,
     "user": {
      "displayName": "Hadelin de Ponteves",
      "photoUrl": "https://lh3.googleusercontent.com/a-/AOh14GhEuXdT7eQweUmRPW8_laJuPggSK6hfvpl5a6WBaA=s64",
      "userId": "15047218817161520419"
     },
     "user_tz": -240
    },
    "id": "qeTjz2vDilAC",
    "outputId": "08413d38-f94b-4100-bfc3-19c1b5d5efe4"
   },
   "outputs": [
    {
     "data": {
      "image/png": "[encoded data removed]",
      "text/plain": [
       "<Figure size 640x480 with 1 Axes>"
      ]
     },
     "metadata": {},
     "output_type": "display_data"
    }
   ],
   "source": [
    "from matplotlib.colors import ListedColormap\n",
    "X_set, y_set = normalizador.inverse_transform(X_prueba), y_prueba\n",
    "X1, X2 = np.meshgrid(np.arange(start = X_set[:, 0].min() - 10, stop = X_set[:, 0].max() + 10, step = 0.25),\n",
    "                     np.arange(start = X_set[:, 1].min() - 1000, stop = X_set[:, 1].max() + 1000, step = 0.25))\n",
    "plt.contourf(X1, X2, clasificador.predict(normalizador.transform(np.array([X1.ravel(), X2.ravel()]).T)).reshape(X1.shape),\n",
    "             alpha = 0.75, cmap = ListedColormap(['red', 'green']))\n",
    "plt.xlim(X1.min(), X1.max())\n",
    "plt.ylim(X2.min(), X2.max())\n",
    "for i, j in enumerate(np.unique(y_set)):\n",
    "    plt.scatter(X_set[y_set == j, 0], X_set[y_set == j, 1], color = ListedColormap(['red', 'green'])(i), label = j)\n",
    "plt.title('SVM (Datos para prueba)')\n",
    "plt.xlabel('Edad')\n",
    "plt.ylabel('Salario Estimado')\n",
    "plt.legend()\n",
    "plt.show()"
   ]
  },
  {
   "cell_type": "markdown",
   "metadata": {},
   "source": [
    "Se vé que el SVC dió un mejor resultado que el modelo de regresión logística, pero no le ganó al KNN.  Esto es porque se utilizó el kernel lineal.  Es de imaginar que al utilizar otro tipo de kernl, quizás podamos mejorar "
   ]
  },
  {
   "cell_type": "code",
   "execution_count": null,
   "metadata": {},
   "outputs": [],
   "source": []
  }
 ],
 "metadata": {
  "colab": {
   "authorship_tag": "ABX9TyMH6PiqxoH4J/SZjlaPzxhf",
   "collapsed_sections": [],
   "machine_shape": "hm",
   "name": "support_vector_machine.ipynb",
   "provenance": [],
   "toc_visible": true
  },
  "kernelspec": {
   "display_name": "Python 3 (ipykernel)",
   "language": "python",
   "name": "python3"
  },
  "language_info": {
   "codemirror_mode": {
    "name": "ipython",
    "version": 3
   },
   "file_extension": ".py",
   "mimetype": "text/x-python",
   "name": "python",
   "nbconvert_exporter": "python",
   "pygments_lexer": "ipython3",
   "version": "3.11.8"
  }
 },
 "nbformat": 4,
 "nbformat_minor": 4
}
